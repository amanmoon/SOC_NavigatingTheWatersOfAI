{
 "cells": [
  {
   "cell_type": "code",
   "execution_count": 1,
   "id": "fc6865d7",
   "metadata": {},
   "outputs": [],
   "source": [
    "import numpy as np\n",
    "import pandas as pd\n",
    "import matplotlib.pyplot as plt"
   ]
  },
  {
   "cell_type": "code",
   "execution_count": 2,
   "id": "fd630f2a",
   "metadata": {},
   "outputs": [],
   "source": [
    "loanDF=pd.read_csv(\"data.csv\");"
   ]
  },
  {
   "cell_type": "markdown",
   "id": "ecaf3a8c",
   "metadata": {},
   "source": [
    "# Data correction"
   ]
  },
  {
   "cell_type": "markdown",
   "id": "225cf991",
   "metadata": {},
   "source": [
    "removing duplicate rows and Na rows changing date and time format"
   ]
  },
  {
   "cell_type": "code",
   "execution_count": 3,
   "id": "77d64480",
   "metadata": {},
   "outputs": [
    {
     "name": "stderr",
     "output_type": "stream",
     "text": [
      "C:\\Users\\milin\\AppData\\Local\\Temp\\ipykernel_13576\\1338355240.py:3: UserWarning: Could not infer format, so each element will be parsed individually, falling back to `dateutil`. To ensure parsing is consistent and as-expected, please specify a format.\n",
      "  loanDF['originationDate'] = pd.to_datetime(loanDF['originationDate'])\n"
     ]
    }
   ],
   "source": [
    "loanDF.drop_duplicates(inplace=True);\n",
    "loanDF.dropna(inplace=True);\n",
    "loanDF['originationDate'] = pd.to_datetime(loanDF['originationDate'])"
   ]
  },
  {
   "cell_type": "markdown",
   "id": "7df1730e",
   "metadata": {},
   "source": [
    "# Assignment "
   ]
  },
  {
   "cell_type": "markdown",
   "id": "aab06f52",
   "metadata": {},
   "source": [
    "Question No.1"
   ]
  },
  {
   "cell_type": "code",
   "execution_count": 5,
   "id": "f2ff1ca1",
   "metadata": {},
   "outputs": [],
   "source": [
    "def year_monthConvertor(x):  \n",
    "    if 'yrs' in x or 'y' in x:\n",
    "        x=x.replace('years','')\n",
    "        x=x.replace('yrs','')\n",
    "        x=x.replace('y','')\n",
    "        x=x.strip()\n",
    "        x=int(x)\n",
    "        return {'year':x,'month':0}\n",
    "    else:\n",
    "        x=x.replace('months','')\n",
    "        x=x.replace('m','')\n",
    "        x=x.strip()\n",
    "        x=int(x)\n",
    "        year=x//12\n",
    "        month=x%12\n",
    "        return {'year':year,'month':month}\n",
    "\n",
    "for i in loanDF.index:\n",
    "    maturationYear=loanDF.loc[i,'originationDate'].year+year_monthConvertor(loanDF.loc[i,'loanTerm'])['year']\n",
    "    maturationMonth=loanDF.loc[i,'originationDate'].month+year_monthConvertor(loanDF.loc[i,'loanTerm'])['month']\n",
    "    loanDF.loc[i,'maturationDate']=(f\"{maturationYear}/{maturationMonth}\")"
   ]
  },
  {
   "cell_type": "markdown",
   "id": "61887fbf",
   "metadata": {},
   "source": [
    "Question No. 2"
   ]
  },
  {
   "cell_type": "code",
   "execution_count": 7,
   "id": "86178800",
   "metadata": {},
   "outputs": [],
   "source": [
    "for i in loanDF.index:\n",
    "    x=loanDF.loc[i,'maturationDate'].split('/')\n",
    "    remainingYears=int(x[0])-2023\n",
    "    remainingMonths=int(x[1])\n",
    "    remainingTotalMonths=remainingYears*12+remainingMonths\n",
    "    loanDF.loc[i,'remainingTerm']=f\"{remainingTotalMonths} Months\""
   ]
  },
  {
   "cell_type": "markdown",
   "id": "d55116c2",
   "metadata": {},
   "source": [
    "Question No. 3"
   ]
  },
  {
   "cell_type": "code",
   "execution_count": 9,
   "id": "cff4aea5",
   "metadata": {},
   "outputs": [
    {
     "name": "stdout",
     "output_type": "stream",
     "text": [
      "State with max total loan is: GA\n",
      "State with max no of loans taken is: GA\n"
     ]
    }
   ],
   "source": [
    "def keyFinder(dictionary,value):\n",
    "    for key, val in dictionary.items():\n",
    "        if val == value:\n",
    "            return key\n",
    "\n",
    "stateno={}\n",
    "stateloan={}\n",
    "for i in loanDF.index:\n",
    "    state=loanDF.loc[i,'obligorState']\n",
    "    loan=int(loanDF.loc[i,'loanAmount']) \n",
    "    if state in stateno:\n",
    "        stateno[state]=stateno[state]+1\n",
    "    else:\n",
    "        stateno[state]=1\n",
    "        \n",
    "    if state in stateloan:\n",
    "        stateloan[state]=stateloan[state]+loan\n",
    "    else:\n",
    "        stateloan[state]=loan\n",
    "print(\"State with max total loan is:\",keyFinder(stateloan,sorted(stateloan.values(),reverse=True)[1]))\n",
    "print(\"State with max no of loans taken is:\",keyFinder(stateno,sorted(stateno.values(),reverse=True)[1]))"
   ]
  },
  {
   "cell_type": "markdown",
   "id": "c91a6971",
   "metadata": {},
   "source": [
    "Question No. 4"
   ]
  },
  {
   "cell_type": "code",
   "execution_count": 11,
   "id": "cedea077",
   "metadata": {},
   "outputs": [
    {
     "name": "stdout",
     "output_type": "stream",
     "text": [
      "fraction of used vehicle in month no. 1 is 0.08230152949745084\n",
      "fraction of used vehicle in month no. 2 is 0.08413547237076649\n",
      "fraction of used vehicle in month no. 3 is 0.08017366136034733\n",
      "fraction of used vehicle in month no. 4 is 0.06988390621443205\n",
      "fraction of used vehicle in month no. 5 is 0.057835613391168945\n",
      "fraction of used vehicle in month no. 6 is 0.07807118254879448\n",
      "fraction of used vehicle in month no. 7 is 0.07102973639787041\n",
      "fraction of used vehicle in month no. 8 is 0.07299721620785649\n",
      "fraction of used vehicle in month no. 9 is 0.0867992766726944\n",
      "fraction of used vehicle in month no. 10 is 0.06766428106701367\n",
      "fraction of used vehicle in month no. 11 is 0.06707983959168794\n",
      "fraction of used vehicle in month no. 12 is 0.06503067484662577\n"
     ]
    }
   ],
   "source": [
    "def shareofusedvcalc(monthno):\n",
    "    fraction=new_oldList[monthno][1]/(new_oldList[monthno][1]+new_oldList[monthno][0])\n",
    "    return fraction\n",
    "    \n",
    "new_oldList=['zerothmonth']\n",
    "for i in range(1,13):\n",
    "    new_oldList.append([0,0])\n",
    "for i in loanDF.index:\n",
    "    monthno=loanDF.loc[i,'originationDate'].month\n",
    "    if loanDF.loc[i,'vehicleNewUsedCode'] == 'New':\n",
    "        new_oldList[monthno][0]+=1\n",
    "    else:\n",
    "        new_oldList[monthno][1]+=1\n",
    "for i in range(1,13):\n",
    "    print(f\"fraction of used vehicle in month no. {i} is\",shareofusedvcalc(i))"
   ]
  },
  {
   "cell_type": "code",
   "execution_count": 13,
   "id": "97a2ec97",
   "metadata": {},
   "outputs": [
    {
     "data": {
      "image/png": "[encoded data removed]",
      "text/plain": [
       "<Figure size 640x480 with 1 Axes>"
      ]
     },
     "metadata": {},
     "output_type": "display_data"
    }
   ],
   "source": [
    "l=[]\n",
    "for i in range(1,13):\n",
    "    l.append(shareofusedvcalc(i))\n",
    "ypoints = np.array(l)\n",
    "plt.plot(ypoints, marker = 'o')\n",
    "plt.show()"
   ]
  },
  {
   "cell_type": "markdown",
   "id": "a9e5ad8b",
   "metadata": {},
   "source": [
    "Question No. 5"
   ]
  },
  {
   "cell_type": "code",
   "execution_count": 15,
   "id": "f8daef62",
   "metadata": {},
   "outputs": [
    {
     "name": "stdout",
     "output_type": "stream",
     "text": [
      "percentage of defaulted loans is 5.743175732384797\n"
     ]
    }
   ],
   "source": [
    "defaultedLoan=0\n",
    "for i in loanDF.index:\n",
    "    if loanDF.loc[i,'endingLoanBal']==loanDF.loc[i,'beginningLoanBal']:\n",
    "        loanDF.loc[i,'defaultedStatus']='True'\n",
    "        defaultedLoan+=1\n",
    "    else:\n",
    "        loanDF.loc[i,'defaultedStatus']='False'\n",
    "defaultedLoanPercentage=(defaultedLoan*100)/i\n",
    "print(\"percentage of defaulted loans is\",defaultedLoanPercentage)"
   ]
  },
  {
   "cell_type": "markdown",
   "id": "432d9943",
   "metadata": {},
   "source": [
    "Question No. 6"
   ]
  },
  {
   "cell_type": "code",
   "execution_count": 17,
   "id": "02e64ecd",
   "metadata": {},
   "outputs": [
    {
     "name": "stdout",
     "output_type": "stream",
     "text": [
      "percentage of loans with interestrates <3% and are used and coowned is: 0.8968609865470852\n"
     ]
    }
   ],
   "source": [
    "noOfCoownedLoan=0\n",
    "noOfLoanLt3=0\n",
    "for i in loanDF.index:\n",
    "    if loanDF.loc[i,'coObligorIndicator']==True and loanDF.loc[i,'vehicleNewUsedCode']=='Used':\n",
    "        noOfCoownedLoan+=1\n",
    "        if loanDF.loc[i,'intRate']<=0.03:\n",
    "            noOfLoanLt3+=1\n",
    "percentageOfCoownedLoan=(noOfLoanLt3*100)/noOfCoownedLoan\n",
    "print(\"percentage of loans with interestrates <3% and are used and coowned is:\",percentageOfCoownedLoan)"
   ]
  },
  {
   "cell_type": "markdown",
   "id": "3781d9b7",
   "metadata": {},
   "source": [
    "Question No. 7"
   ]
  },
  {
   "cell_type": "code",
   "execution_count": 19,
   "id": "3c1d2ed0",
   "metadata": {},
   "outputs": [
    {
     "name": "stdout",
     "output_type": "stream",
     "text": [
      "The most famous model in FL is COROLLA 2022\n"
     ]
    }
   ],
   "source": [
    "vehicalModel={}\n",
    "for i in loanDF.index:\n",
    "    if loanDF.loc[i,'obligorState']=='FL':\n",
    "        x=loanDF.loc[i,'vehicleModelName']+\" \"+str(loanDF.loc[i,'vehicleModelYear'])\n",
    "        if x in vehicalModel:\n",
    "            vehicalModel[x]=vehicalModel[x]+1\n",
    "        else:\n",
    "            vehicalModel[x]=1\n",
    "print(\"The most famous model in FL is\",keyFinder(vehicalModel,sorted(vehicalModel.values(),reverse=True)[0]))"
   ]
  },
  {
   "cell_type": "markdown",
   "id": "67fe3ee2",
   "metadata": {},
   "source": [
    "Question No. 8"
   ]
  },
  {
   "cell_type": "code",
   "execution_count": null,
   "id": "71a0ab97",
   "metadata": {},
   "outputs": [],
   "source": []
  }
 ],
 "metadata": {
  "kernelspec": {
   "display_name": "Python 3 (ipykernel)",
   "language": "python",
   "name": "python3"
  },
  "language_info": {
   "codemirror_mode": {
    "name": "ipython",
    "version": 3
   },
   "file_extension": ".py",
   "mimetype": "text/x-python",
   "name": "python",
   "nbconvert_exporter": "python",
   "pygments_lexer": "ipython3",
   "version": "3.11.3"
  }
 },
 "nbformat": 4,
 "nbformat_minor": 5
}
